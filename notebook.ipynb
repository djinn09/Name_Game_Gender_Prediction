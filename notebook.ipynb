{
 "cells": [
  {
   "cell_type": "markdown",
   "metadata": {
    "dc": {
     "key": "3"
    },
    "deletable": false,
    "editable": false,
    "run_control": {
     "frozen": true
    },
    "tags": [
     "context"
    ]
   },
   "source": [
    "## 1. Sound it out!\n",
    "<p>Grey and Gray. Colour and Color. Words like these have been the cause of many heated arguments between Brits and Americans. Accents (and jokes) aside, there are many words that are pronounced the same way but have different spellings. While it is easy for us to realize their equivalence, basic programming commands will fail to equate such two strings. </p>\n",
    "<p>More extreme than word spellings are names because people have more flexibility in choosing to spell a name in a certain way. To some extent, tradition sometimes governs the way a name is spelled, which limits the number of variations of any given English name. But if we consider global names and their associated English spellings, you can only imagine how many ways they can be spelled out. </p>\n",
    "<p>One way to tackle this challenge is to write a program that checks if two strings sound the same, instead of checking for equivalence in spellings. We'll do that here using fuzzy name matching.</p>"
   ]
  },
  {
   "cell_type": "code",
   "execution_count": 27,
   "metadata": {
    "dc": {
     "key": "3"
    },
    "tags": [
     "sample_code"
    ]
   },
   "outputs": [
    {
     "name": "stdout",
     "output_type": "stream",
     "text": [
      "TAFAL\n"
     ]
    },
    {
     "data": {
      "text/plain": [
       "True"
      ]
     },
     "execution_count": 27,
     "metadata": {},
     "output_type": "execute_result"
    }
   ],
   "source": [
    "# Importing the fuzzy package\n",
    "# ... YOUR CODE FOR TASK 1 ...\n",
    "import fuzzy\n",
    "\n",
    "# Exploring the output of fuzzy.nysiis\n",
    "# ... YOUR CODE FOR TASK 1 ...\n",
    "print(fuzzy.nysiis('tufool'))\n",
    "\n",
    "\n",
    "# Testing equivalence of similar sounding words\n",
    "# ... YOUR CODE FOR TASK 1 ...\n",
    "fuzzy.nysiis('tomorrow') == fuzzy.nysiis('tommorow')\n"
   ]
  },
  {
   "cell_type": "markdown",
   "metadata": {
    "dc": {
     "key": "10"
    },
    "deletable": false,
    "editable": false,
    "run_control": {
     "frozen": true
    },
    "tags": [
     "context"
    ]
   },
   "source": [
    "## 2. Authoring the authors\n",
    "<p>The New York Times puts out a weekly list of best-selling books from different genres, and which has been published since the 1930’s.  We’ll focus on Children’s Picture Books, and analyze the gender distribution of authors to see if there have been changes over time. We'll begin by reading in the data on the best selling authors from 2008 to 2017.</p>"
   ]
  },
  {
   "cell_type": "code",
   "execution_count": 29,
   "metadata": {
    "dc": {
     "key": "10"
    },
    "tags": [
     "sample_code"
    ]
   },
   "outputs": [
    {
     "data": {
      "text/html": [
       "<div>\n",
       "<style scoped>\n",
       "    .dataframe tbody tr th:only-of-type {\n",
       "        vertical-align: middle;\n",
       "    }\n",
       "\n",
       "    .dataframe tbody tr th {\n",
       "        vertical-align: top;\n",
       "    }\n",
       "\n",
       "    .dataframe thead th {\n",
       "        text-align: right;\n",
       "    }\n",
       "</style>\n",
       "<table border=\"1\" class=\"dataframe\">\n",
       "  <thead>\n",
       "    <tr style=\"text-align: right;\">\n",
       "      <th></th>\n",
       "      <th>Year</th>\n",
       "      <th>Book Title</th>\n",
       "      <th>Author</th>\n",
       "      <th>Besteller this year</th>\n",
       "      <th>first_name</th>\n",
       "    </tr>\n",
       "  </thead>\n",
       "  <tbody>\n",
       "    <tr>\n",
       "      <th>0</th>\n",
       "      <td>2017</td>\n",
       "      <td>DRAGONS LOVE TACOS</td>\n",
       "      <td>Adam Rubin</td>\n",
       "      <td>49</td>\n",
       "      <td>Adam</td>\n",
       "    </tr>\n",
       "    <tr>\n",
       "      <th>1</th>\n",
       "      <td>2017</td>\n",
       "      <td>THE WONDERFUL THINGS YOU WILL BE</td>\n",
       "      <td>Emily Winfield Martin</td>\n",
       "      <td>48</td>\n",
       "      <td>Emily</td>\n",
       "    </tr>\n",
       "    <tr>\n",
       "      <th>2</th>\n",
       "      <td>2017</td>\n",
       "      <td>THE DAY THE CRAYONS QUIT</td>\n",
       "      <td>Drew Daywalt</td>\n",
       "      <td>44</td>\n",
       "      <td>Drew</td>\n",
       "    </tr>\n",
       "    <tr>\n",
       "      <th>3</th>\n",
       "      <td>2017</td>\n",
       "      <td>ROSIE REVERE, ENGINEER</td>\n",
       "      <td>Andrea Beaty</td>\n",
       "      <td>38</td>\n",
       "      <td>Andrea</td>\n",
       "    </tr>\n",
       "    <tr>\n",
       "      <th>4</th>\n",
       "      <td>2017</td>\n",
       "      <td>ADA TWIST, SCIENTIST</td>\n",
       "      <td>Andrea Beaty</td>\n",
       "      <td>28</td>\n",
       "      <td>Andrea</td>\n",
       "    </tr>\n",
       "  </tbody>\n",
       "</table>\n",
       "</div>"
      ],
      "text/plain": [
       "   Year                        Book Title                 Author  \\\n",
       "0  2017                DRAGONS LOVE TACOS             Adam Rubin   \n",
       "1  2017  THE WONDERFUL THINGS YOU WILL BE  Emily Winfield Martin   \n",
       "2  2017          THE DAY THE CRAYONS QUIT           Drew Daywalt   \n",
       "3  2017            ROSIE REVERE, ENGINEER           Andrea Beaty   \n",
       "4  2017              ADA TWIST, SCIENTIST           Andrea Beaty   \n",
       "\n",
       "   Besteller this year first_name  \n",
       "0                   49       Adam  \n",
       "1                   48      Emily  \n",
       "2                   44       Drew  \n",
       "3                   38     Andrea  \n",
       "4                   28     Andrea  "
      ]
     },
     "execution_count": 29,
     "metadata": {},
     "output_type": "execute_result"
    }
   ],
   "source": [
    "# Importing the pandas module\n",
    "# ...YOUR CODE FOR TASK 2...\n",
    "import pandas as pd\n",
    "# Reading in datasets/nytkids_yearly.csv, which is semicolon delimited.\n",
    "# ...YOUR CODE FOR TASK 2...\n",
    "\n",
    "df  = pd.read_csv(\"datasets/nytkids_yearly.csv\",delimiter=\";\")\n",
    "# Looping through author_df['Author'] to extract the authors first names\n",
    "first_name = []\n",
    "for name in df[\"Author\"]:\n",
    "    first_name.append(name.split()[0])\n",
    "\n",
    "# Adding first_name as a column to author_df\n",
    "# ...YOUR CODE FOR TASK 2...\n",
    "df[\"first_name\"] = first_name\n",
    "# Checking out the first few rows of author_df\n",
    "# ...YOUR CODE FOR TASK 2...\n",
    "df.head()"
   ]
  },
  {
   "cell_type": "markdown",
   "metadata": {
    "dc": {
     "key": "17"
    },
    "deletable": false,
    "editable": false,
    "run_control": {
     "frozen": true
    },
    "tags": [
     "context"
    ]
   },
   "source": [
    "## 3. It's time to bring on the phonics... _again_!\n",
    "<p>When we were young children, we were taught to read using phonics; sounding out the letters that compose words. So let's relive history and do that again, but using python this time. We will now create a new column or list that contains the phonetic equivalent of every first name that we just extracted. </p>\n",
    "<p>To make sure we're on the right track, let's compare the number of unique values in the <code>first_name</code> column and the number of unique values in the nysiis coded column. As a rule of thumb, the number of unique nysiis first names should be less than or equal to the number of actual first names.</p>"
   ]
  },
  {
   "cell_type": "code",
   "execution_count": 31,
   "metadata": {
    "dc": {
     "key": "17"
    },
    "tags": [
     "sample_code"
    ]
   },
   "outputs": [
    {
     "name": "stdout",
     "output_type": "stream",
     "text": [
      "There are 25 more unqiue values for first_name than nysiis_name\n"
     ]
    }
   ],
   "source": [
    "# Importing numpy\n",
    "# ...YOUR CODE FOR TASK 3...\n",
    "import numpy as np\n",
    "# Looping through author's first names to create the nysiis (fuzzy) equivalent\n",
    "nysiis_name = []\n",
    "# ...YOUR CODE FOR TASK 3...\n",
    "for fn in df[\"first_name\"]:\n",
    "    nysiis_name.append(fuzzy.nysiis(fn))\n",
    "# Adding nysiis_name as a column to author_df\n",
    "# ...YOUR CODE FOR TASK 3...\n",
    "df[\"nysiis_name\"] = nysiis_name\n",
    "\n",
    "# Printing out the difference between unique firstnames and unique nysiis_names:\n",
    "# ...YOUR CODE FOR TASK 3...\n",
    "diff_names = len(np.unique(df.first_name)) - len(np.unique(df.nysiis_name))\n",
    "print('There are {} more unqiue values for first_name than nysiis_name'.format(diff_names))"
   ]
  },
  {
   "cell_type": "markdown",
   "metadata": {
    "dc": {
     "key": "24"
    },
    "deletable": false,
    "editable": false,
    "run_control": {
     "frozen": true
    },
    "tags": [
     "context"
    ]
   },
   "source": [
    "## 4. The inbetweeners\n",
    "<p>We'll use <code>babynames_nysiis.csv</code>, a dataset that is derived from <a href=\"https://www.ssa.gov/oact/babynames/limits.html\">the Social Security Administration’s baby name data</a>, to identify author genders. The dataset contains unique NYSIIS versions of baby names, and also includes the percentage of times the name appeared as a female name (<code>perc_female</code>) and the percentage of times it appeared as a male name (<code>perc_male</code>). </p>\n",
    "<p>We'll use this data to create a list of <code>gender</code>. Let's make the following simplifying assumption: For each name, if <code>perc_female</code> is greater than <code>perc_male</code> then assume the name is female, if <code>perc_female</code> is less than <code>perc_male</code> then assume it is a male name, and if the percentages are equal then it's a \"neutral\" name.</p>"
   ]
  },
  {
   "cell_type": "code",
   "execution_count": 33,
   "metadata": {
    "dc": {
     "key": "24"
    },
    "tags": [
     "sample_code"
    ]
   },
   "outputs": [
    {
     "data": {
      "text/html": [
       "<div>\n",
       "<style scoped>\n",
       "    .dataframe tbody tr th:only-of-type {\n",
       "        vertical-align: middle;\n",
       "    }\n",
       "\n",
       "    .dataframe tbody tr th {\n",
       "        vertical-align: top;\n",
       "    }\n",
       "\n",
       "    .dataframe thead th {\n",
       "        text-align: right;\n",
       "    }\n",
       "</style>\n",
       "<table border=\"1\" class=\"dataframe\">\n",
       "  <thead>\n",
       "    <tr style=\"text-align: right;\">\n",
       "      <th></th>\n",
       "      <th>babynysiis</th>\n",
       "      <th>perc_female</th>\n",
       "      <th>perc_male</th>\n",
       "      <th>gender</th>\n",
       "    </tr>\n",
       "  </thead>\n",
       "  <tbody>\n",
       "    <tr>\n",
       "      <th>0</th>\n",
       "      <td>NaN</td>\n",
       "      <td>62.50</td>\n",
       "      <td>37.50</td>\n",
       "      <td>F</td>\n",
       "    </tr>\n",
       "    <tr>\n",
       "      <th>1</th>\n",
       "      <td>RAX</td>\n",
       "      <td>63.64</td>\n",
       "      <td>36.36</td>\n",
       "      <td>F</td>\n",
       "    </tr>\n",
       "    <tr>\n",
       "      <th>2</th>\n",
       "      <td>ESAR</td>\n",
       "      <td>44.44</td>\n",
       "      <td>55.56</td>\n",
       "      <td>M</td>\n",
       "    </tr>\n",
       "    <tr>\n",
       "      <th>3</th>\n",
       "      <td>DJANG</td>\n",
       "      <td>0.00</td>\n",
       "      <td>100.00</td>\n",
       "      <td>M</td>\n",
       "    </tr>\n",
       "    <tr>\n",
       "      <th>4</th>\n",
       "      <td>PARCAL</td>\n",
       "      <td>25.00</td>\n",
       "      <td>75.00</td>\n",
       "      <td>M</td>\n",
       "    </tr>\n",
       "  </tbody>\n",
       "</table>\n",
       "</div>"
      ],
      "text/plain": [
       "  babynysiis  perc_female  perc_male gender\n",
       "0        NaN        62.50      37.50      F\n",
       "1        RAX        63.64      36.36      F\n",
       "2       ESAR        44.44      55.56      M\n",
       "3      DJANG         0.00     100.00      M\n",
       "4     PARCAL        25.00      75.00      M"
      ]
     },
     "execution_count": 33,
     "metadata": {},
     "output_type": "execute_result"
    }
   ],
   "source": [
    "# Reading in datasets/babynames_nysiis.csv, which is semicolon delimited.\n",
    "babies_df = pd.read_csv(\"datasets/babynames_nysiis.csv\",delimiter=\";\")\n",
    "\n",
    "# Looping through babies_df to and filling up gender\n",
    "gender = []\n",
    "# ... YOUR CODE FOR TASK 4 ...\n",
    "for index in range(len(babies_df[\"babynysiis\"])):\n",
    "    if babies_df.perc_female[index] > babies_df.perc_male[index]:\n",
    "        gender.append('F')\n",
    "    elif babies_df.perc_female[index] < babies_df.perc_male[index]:\n",
    "        gender.append('M')\n",
    "    else:\n",
    "        gender.append('N')\n",
    "# Adding a gender column to babies_df\n",
    "# ... YOUR CODE FOR TASK 4 ...\n",
    "babies_df['gender'] = gender\n",
    "\n",
    "# Printing out the first few rows of babies_df\n",
    "# ... YOUR CODE FOR TASK 4 ...\n",
    "babies_df.head()\n",
    "\n"
   ]
  },
  {
   "cell_type": "markdown",
   "metadata": {
    "dc": {
     "key": "31"
    },
    "deletable": false,
    "editable": false,
    "run_control": {
     "frozen": true
    },
    "tags": [
     "context"
    ]
   },
   "source": [
    "## 5. Playing matchmaker\n",
    "<p>Now that we have identified the likely genders of different names, let's find author genders by searching for each author's name in the <code>babies_df</code> DataFrame, and extracting the associated gender. </p>"
   ]
  },
  {
   "cell_type": "code",
   "execution_count": 35,
   "metadata": {
    "dc": {
     "key": "31"
    },
    "tags": [
     "sample_code"
    ]
   },
   "outputs": [
    {
     "data": {
      "text/plain": [
       "JAN           72\n",
       "M             43\n",
       "ERAC          26\n",
       "DAVAD         16\n",
       "AN            15\n",
       "ADAN          13\n",
       "TAD           12\n",
       "SAR           11\n",
       "RAF           11\n",
       "LAR           10\n",
       "HARV          10\n",
       "CLANAD        10\n",
       "BRAD           9\n",
       "OLAVAR         8\n",
       "ANDR           8\n",
       "ANY            8\n",
       "JANY           8\n",
       "DAN            8\n",
       "DR             8\n",
       "LARAN          8\n",
       "TADAR          7\n",
       "ARAN           7\n",
       "JALY           7\n",
       "PATRAC         7\n",
       "PATAR          7\n",
       "NANCY          6\n",
       "CAFAN          5\n",
       "BRAN           5\n",
       "IAN            5\n",
       "TANY           5\n",
       "              ..\n",
       "VAC            1\n",
       "BARBAR         1\n",
       "BARAL          1\n",
       "J              1\n",
       "DANAC          1\n",
       "HALY           1\n",
       "BANY           1\n",
       "GRAN           1\n",
       "CAT            1\n",
       "LANDSY         1\n",
       "CARALAN        1\n",
       "JAL            1\n",
       "JAVAC          1\n",
       "SANDR          1\n",
       "STAF           1\n",
       "EL             1\n",
       "LABAN          1\n",
       "B              1\n",
       "JAF            1\n",
       "HALARY         1\n",
       "LAS            1\n",
       "TAN            1\n",
       "FARDANAD       1\n",
       "CHRASTAFAR     1\n",
       "MAC            1\n",
       "CACY           1\n",
       "PAP            1\n",
       "SAF            1\n",
       "CALS           1\n",
       "FARAL          1\n",
       "Name: author_gender, Length: 145, dtype: int64"
      ]
     },
     "execution_count": 35,
     "metadata": {},
     "output_type": "execute_result"
    }
   ],
   "source": [
    "# This function returns the location of an element in a_list.\n",
    "# Where an item does not exist, it returns -1.\n",
    "def locate_in_list(a_list, element):\n",
    "    loc_of_name = a_list.index(element) if element in a_list else -1\n",
    "    return(loc_of_name)\n",
    "\n",
    "# Looping through author_df['nysiis_name'] and appending the gender of each\n",
    "# author to author_gender.\n",
    "author_gender = []\n",
    "# ...YOUR CODE FOR TASK 5...\n",
    "for name in df['nysiis_name']:\n",
    "    author_gender.append(name)\n",
    "# Adding author_gender to the author_df\n",
    "# ...YOUR CODE FOR TASK 5...\n",
    "df[\"author_gender\"] = author_gender\n",
    "# Counting the author's genders\n",
    "# ...YOUR CODE FOR TASK 5...\n",
    "df['author_gender'].value_counts()"
   ]
  },
  {
   "cell_type": "markdown",
   "metadata": {
    "dc": {
     "key": "38"
    },
    "deletable": false,
    "editable": false,
    "run_control": {
     "frozen": true
    },
    "tags": [
     "context"
    ]
   },
   "source": [
    "## 6. Tally up\n",
    "<p>From the results above see that there are more female authors on the New York Times best seller's list than male authors. Our dataset spans 2008 to 2017. Let's find out if there have been changes over time.</p>"
   ]
  },
  {
   "cell_type": "code",
   "execution_count": 37,
   "metadata": {
    "dc": {
     "key": "38"
    },
    "tags": [
     "sample_code"
    ]
   },
   "outputs": [
    {
     "data": {
      "text/html": [
       "<div>\n",
       "<style scoped>\n",
       "    .dataframe tbody tr th:only-of-type {\n",
       "        vertical-align: middle;\n",
       "    }\n",
       "\n",
       "    .dataframe tbody tr th {\n",
       "        vertical-align: top;\n",
       "    }\n",
       "\n",
       "    .dataframe thead th {\n",
       "        text-align: right;\n",
       "    }\n",
       "</style>\n",
       "<table border=\"1\" class=\"dataframe\">\n",
       "  <thead>\n",
       "    <tr style=\"text-align: right;\">\n",
       "      <th></th>\n",
       "      <th>2008</th>\n",
       "      <th>2009</th>\n",
       "      <th>2010</th>\n",
       "      <th>2011</th>\n",
       "      <th>2012</th>\n",
       "      <th>2013</th>\n",
       "      <th>2014</th>\n",
       "      <th>2015</th>\n",
       "      <th>2016</th>\n",
       "      <th>2017</th>\n",
       "    </tr>\n",
       "  </thead>\n",
       "  <tbody>\n",
       "    <tr>\n",
       "      <th>males</th>\n",
       "      <td>0</td>\n",
       "      <td>3</td>\n",
       "      <td>7</td>\n",
       "      <td>5</td>\n",
       "      <td>5</td>\n",
       "      <td>5</td>\n",
       "      <td>4</td>\n",
       "      <td>6</td>\n",
       "      <td>4</td>\n",
       "      <td>4</td>\n",
       "    </tr>\n",
       "    <tr>\n",
       "      <th>females</th>\n",
       "      <td>0</td>\n",
       "      <td>0</td>\n",
       "      <td>0</td>\n",
       "      <td>0</td>\n",
       "      <td>0</td>\n",
       "      <td>0</td>\n",
       "      <td>0</td>\n",
       "      <td>0</td>\n",
       "      <td>0</td>\n",
       "      <td>0</td>\n",
       "    </tr>\n",
       "    <tr>\n",
       "      <th>unknowns</th>\n",
       "      <td>0</td>\n",
       "      <td>0</td>\n",
       "      <td>0</td>\n",
       "      <td>0</td>\n",
       "      <td>0</td>\n",
       "      <td>0</td>\n",
       "      <td>0</td>\n",
       "      <td>0</td>\n",
       "      <td>0</td>\n",
       "      <td>0</td>\n",
       "    </tr>\n",
       "  </tbody>\n",
       "</table>\n",
       "</div>"
      ],
      "text/plain": [
       "          2008  2009  2010  2011  2012  2013  2014  2015  2016  2017\n",
       "males        0     3     7     5     5     5     4     6     4     4\n",
       "females      0     0     0     0     0     0     0     0     0     0\n",
       "unknowns     0     0     0     0     0     0     0     0     0     0"
      ]
     },
     "execution_count": 37,
     "metadata": {},
     "output_type": "execute_result"
    }
   ],
   "source": [
    "# Creating a list of unique years, sorted in ascending order.\n",
    "years =  list(np.unique(df.Year))\n",
    "\n",
    "\n",
    "# Initializing lists\n",
    "males_by_yr = []\n",
    "females_by_yr = []\n",
    "unknown_by_yr = []\n",
    "for yr in years:\n",
    "    males_by_yr.append(\n",
    "        len(df[(df[\"author_gender\"] == 'M') & (df[\"Year\"] == yr)]))\n",
    "    females_by_yr.append(\n",
    "        len(df[(df[\"author_gender\"] == 'F') & (df[\"Year\"] == yr)]))\n",
    "    unknown_by_yr.append(len(\n",
    "        df[(df[\"author_gender\"] == 'Unknown') & (df[\"Year\"] == yr)]))\n",
    "# Looping through years to find the number of male, female and unknown authors per year\n",
    "# ...YOUR CODE FOR TASK 6...\n",
    "data = np.array([males_by_yr, females_by_yr, unknown_by_yr])\n",
    "headers = ['males', 'females', 'unknowns']\n",
    "# Printing out yearly values to examine changes over time\n",
    "# ...YOUR CODE FOR TASK 6...\n",
    "pd.DataFrame(data, headers, years)\n"
   ]
  },
  {
   "cell_type": "markdown",
   "metadata": {
    "dc": {
     "key": "45"
    },
    "deletable": false,
    "editable": false,
    "run_control": {
     "frozen": true
    },
    "tags": [
     "context"
    ]
   },
   "source": [
    "## 7. Foreign-born authors?\n",
    "<p>Our gender data comes from social security applications of individuals born in the US. Hence, one possible explanation for why there are \"unknown\" genders associated with some author names is because these authors were foreign-born. While making this assumption, we should note that these are only a subset of foreign-born authors as others will have names that have a match in <code>baby_df</code> (and in the social security dataset). </p>\n",
    "<p>Using a bar chart, let's explore the trend of foreign-born authors with no name matches in the social security dataset.</p>"
   ]
  },
  {
   "cell_type": "code",
   "execution_count": 39,
   "metadata": {
    "dc": {
     "key": "45"
    },
    "tags": [
     "sample_code"
    ]
   },
   "outputs": [
    {
     "data": {
      "text/plain": [
       "Text(0.5,0,'years')"
      ]
     },
     "execution_count": 39,
     "metadata": {},
     "output_type": "execute_result"
    },
    {
     "data": {
      "image/png": "[encoded data removed]",
      "text/plain": [
       "<matplotlib.figure.Figure at 0x7fa2753fe5f8>"
      ]
     },
     "metadata": {
      "needs_background": "light"
     },
     "output_type": "display_data"
    }
   ],
   "source": [
    "# Importing matplotlib\n",
    "import matplotlib.pyplot as plt\n",
    "\n",
    "# This makes plots appear in the notebook\n",
    "%matplotlib inline\n",
    "\n",
    "# Plotting the bar chart\n",
    "plt.bar(years, unknown_by_yr)\n",
    "\n",
    "# [OPTIONAL] - Setting a title, and axes labels\n",
    "plt.title('unknown gender by year')\n",
    "plt.xlabel('years')"
   ]
  },
  {
   "cell_type": "markdown",
   "metadata": {
    "dc": {
     "key": "52"
    },
    "deletable": false,
    "editable": false,
    "run_control": {
     "frozen": true
    },
    "tags": [
     "context"
    ]
   },
   "source": [
    "## 8. Raising the bar\n",
    "<p>What’s more exciting than a bar chart is a grouped bar chart. This type of chart is good for displaying <em>changes</em> over time while also <em>comparing</em> two or more groups. Let’s use a grouped bar chart to look at the distribution of male and female authors over time.</p>"
   ]
  },
  {
   "cell_type": "code",
   "execution_count": 41,
   "metadata": {
    "dc": {
     "key": "52"
    },
    "tags": [
     "sample_code"
    ]
   },
   "outputs": [
    {
     "data": {
      "text/plain": [
       "Text(0.5,1,'Authors by Gender')"
      ]
     },
     "execution_count": 41,
     "metadata": {},
     "output_type": "execute_result"
    },
    {
     "data": {
      "image/png": "[encoded data removed]",
      "text/plain": [
       "<matplotlib.figure.Figure at 0x7fa27521f2e8>"
      ]
     },
     "metadata": {
      "needs_background": "light"
     },
     "output_type": "display_data"
    }
   ],
   "source": [
    "# Creating a new list, where 0.25 is added to each year\n",
    "years_shifted = [year + 0.25 for year in years]\n",
    "\n",
    "# Plotting males_by_yr\n",
    "plt.bar(years,  males_by_yr,  width=0.25, color='lightblue')\n",
    "\n",
    "# Plotting females_by_yr by years_shifted\n",
    "plt.bar(years_shifted,  females_by_yr,  width=0.25, color='pink')\n",
    "\n",
    "# [OPTIONAL] - Adding relevant Axes labels and Chart Title\n",
    "plt.xlabel('Years')\n",
    "plt.ylabel('No. Authors')\n",
    "plt.title('Authors by Gender')"
   ]
  }
 ],
 "metadata": {
  "kernelspec": {
   "display_name": "Python 3",
   "language": "python",
   "name": "python3"
  },
  "language_info": {
   "codemirror_mode": {
    "name": "ipython",
    "version": 3
   },
   "file_extension": ".py",
   "mimetype": "text/x-python",
   "name": "python",
   "nbconvert_exporter": "python",
   "pygments_lexer": "ipython3",
   "version": "3.8.5"
  }
 },
 "nbformat": 4,
 "nbformat_minor": 4
}
